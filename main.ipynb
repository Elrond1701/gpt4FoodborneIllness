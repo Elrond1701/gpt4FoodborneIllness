{
 "cells": [
  {
   "cell_type": "markdown",
   "metadata": {},
   "source": [
    "# Experiment 1\n",
    "\n",
    "In-Context Learning\n",
    "\n",
    "## TRC\n",
    "\n",
    "不同的in-context length。\n",
    "\n",
    "confusion matrix"
   ]
  },
  {
   "cell_type": "code",
   "execution_count": null,
   "metadata": {},
   "outputs": [],
   "source": []
  },
  {
   "cell_type": "markdown",
   "metadata": {},
   "source": [
    "## EMD\n",
    "\n",
    "不同的in-context length。\n",
    "\n",
    "结果"
   ]
  },
  {
   "cell_type": "code",
   "execution_count": null,
   "metadata": {},
   "outputs": [],
   "source": []
  },
  {
   "cell_type": "markdown",
   "metadata": {},
   "source": [
    "# Experiment 2\n",
    "\n",
    "GPT embedding & last layer classification"
   ]
  },
  {
   "cell_type": "code",
   "execution_count": null,
   "metadata": {},
   "outputs": [],
   "source": [
    "import json\n",
    "import pandas as pd\n",
    "from scripts.TRC import TRC_embedding\n",
    "\n",
    "model_names = [\"Adaboost\", \"DecisionTree\", \"GaussianProcess\", \"GradientBoosting\", \"KNN\",\n",
    "               \"LDA\", \"LogisticRegression\", \"NaiveBayes\", \"RandomForest\", \"SVM\"]"
   ]
  },
  {
   "cell_type": "code",
   "execution_count": null,
   "metadata": {},
   "outputs": [],
   "source": [
    "path = \"./data/English/LREC_expert_label/\"\n",
    "sizes = [\"50\", \"100\", \"200\", \"500\", \"1000\", \"2000\", \"train\"]\n",
    "with open(path + \"result.json\", \"w\") as f:\n",
    "    f.write(json.dumps(TRC_embedding(model_names=model_names, path=path, sizes=sizes)))\n",
    "\n",
    "path = \"./data/English/LREC_BSC/\"\n",
    "with open(path + \"result.json\", \"w\") as f:\n",
    "    f.write(json.dumps(TRC_embedding(model_names=model_names, path=path, sizes=sizes)))\n",
    "\n",
    "path = \"./data/English/LREC_mv/\"\n",
    "with open(path + \"result.json\", \"w\") as f:\n",
    "    f.write(json.dumps(TRC_embedding(model_names=model_names, path=path, sizes=sizes)))"
   ]
  },
  {
   "cell_type": "code",
   "execution_count": null,
   "metadata": {},
   "outputs": [],
   "source": [
    "from matplotlib import pyplot as plt\n",
    "\n",
    "\n",
    "train_file = \"./data/English/LREC_expert_label/train.csv\"\n",
    "test_file = \"./data/English/LREC_expert_label/test.csv\"\n",
    "train_dat = pd.read_csv(train_file)\n",
    "test_dat = pd.read_csv(test_file)\n",
    "sample_sizes = [50, 100, 500, 1000, 2000, None]\n",
    "model_accuracies = []\n",
    "\n",
    "for model_name in model_names:\n",
    "    accuracies = []\n",
    "    for sample_size in sample_sizes:\n",
    "        confusion_matrix, classification_report, accuracy = TRC_embedding(model_name=model_name, train_dat=train_dat, test_dat=test_dat, \n",
    "                                                      sampling_method=\"RandomOver\", sample_size=sample_size)\n",
    "        print(sample_size)\n",
    "        print(model_name)\n",
    "        print(confusion_matrix)\n",
    "        accuracies.append(accuracy)\n",
    "        print(classification_report)\n",
    "    model_accuracies.append(accuracies)\n",
    "\n",
    "plt.rcParams['font.sans-serif'] = ['SimHei']  # 指定要使用的中文字体\n",
    "plt.rcParams['axes.unicode_minus'] = False  # 解决负号显示问题\n",
    "plt.figure(figsize=(10, 6))\n",
    "sample_sizes = [(i if i is not None else 4000) for i in sample_sizes]\n",
    "for i in range(len(model_names)):\n",
    "    plt.plot(sample_sizes, model_accuracies[i], label=model_names[i])\n",
    "plt.xlabel(\"样本量\")\n",
    "plt.ylabel(\"准确率\")\n",
    "plt.title(\"不同模型的准确率随样本量的变化\")\n",
    "plt.legend()\n",
    "plt.grid(True)\n",
    "\n",
    "plt.show()"
   ]
  },
  {
   "cell_type": "markdown",
   "metadata": {},
   "source": [
    "看起来50个样本已经有较好的效果了，但是50个样本有的时候会由于抽样的原因，导致结果不太稳定。"
   ]
  },
  {
   "cell_type": "code",
   "execution_count": null,
   "metadata": {},
   "outputs": [],
   "source": [
    "import random\n",
    "\n",
    "from matplotlib import pyplot as plt\n",
    "\n",
    "\n",
    "train_file = \"./data/English/LREC_expert_label/train.csv\"\n",
    "test_file = \"./data/English/LREC_expert_label/test.csv\"\n",
    "train_dat = pd.read_csv(train_file)\n",
    "test_dat = pd.read_csv(test_file)\n",
    "sample_sizes = [50, 100, 500, 1000, 2000, None]\n",
    "model_accuracies = []\n",
    "\n",
    "for model_name in model_names:\n",
    "    accuracies = []\n",
    "    for sample_size in sample_sizes:\n",
    "        dat = train_dat.iloc[random.sample(range(len(train_dat)), sample_size)]\n",
    "        confusion_matrix, classification_report, accuracy = TRC_embedding(model_name=model_name, train_dat=dat, test_dat=test_dat, \n",
    "                                                      sampling_method=\"RandomOver\")\n",
    "        print(sample_size)\n",
    "        print(model_name)\n",
    "        print(confusion_matrix)\n",
    "        accuracies.append(accuracy)\n",
    "        print(classification_report)\n",
    "    model_accuracies.append(accuracies)\n",
    "\n",
    "plt.rcParams['font.sans-serif'] = ['SimHei']  # 指定要使用的中文字体\n",
    "plt.rcParams['axes.unicode_minus'] = False  # 解决负号显示问题\n",
    "plt.figure(figsize=(10, 6))\n",
    "for i in range(len(model_names)):\n",
    "    plt.plot(sample_sizes, model_accuracies[i], label=model_names[i])\n",
    "plt.xlabel(\"样本量\")\n",
    "plt.ylabel(\"准确率\")\n",
    "plt.title(\"不同模型的准确率随样本量的变化\")\n",
    "plt.legend()\n",
    "plt.grid(True)\n",
    "\n",
    "plt.show()"
   ]
  },
  {
   "cell_type": "code",
   "execution_count": null,
   "metadata": {},
   "outputs": [],
   "source": [
    "import random\n",
    "\n",
    "from matplotlib import pyplot as plt\n",
    "\n",
    "\n",
    "train_file = \"./data/English/LREC_expert_label/train.csv\"\n",
    "test_file = \"./data/English/LREC_expert_label/test.csv\"\n",
    "train_dat = pd.read_csv(train_file)\n",
    "test_dat = pd.read_csv(test_file)\n",
    "sample_sizes = [50, 100, 500, 1000, 2000]\n",
    "model_accuracies = []\n",
    "\n",
    "for model_name in model_names:\n",
    "    accuracies = []\n",
    "    for sample_size in sample_sizes:\n",
    "        dat = train_dat.iloc[random.sample(range(len(train_dat)), sample_size)]\n",
    "        confusion_matrix, classification_report, accuracy = TRC_embedding(model_name=model_name, train_dat=dat, test_dat=test_dat, \n",
    "                                                      sampling_method=\"RandomOver\")\n",
    "        print(sample_size)\n",
    "        print(model_name)\n",
    "        print(confusion_matrix)\n",
    "        accuracies.append(accuracy)\n",
    "        print(classification_report)\n",
    "    model_accuracies.append(accuracies)\n",
    "\n",
    "plt.rcParams['font.sans-serif'] = ['SimHei']  # 指定要使用的中文字体\n",
    "plt.rcParams['axes.unicode_minus'] = False  # 解决负号显示问题\n",
    "plt.figure(figsize=(10, 6))\n",
    "for i in range(len(model_names)):\n",
    "    plt.plot(sample_sizes, model_accuracies[i], label=model_names[i])\n",
    "plt.xlabel(\"样本量\")\n",
    "plt.ylabel(\"准确率\")\n",
    "plt.title(\"不同模型的准确率随样本量的变化\")\n",
    "plt.legend()\n",
    "plt.grid(True)\n",
    "\n",
    "plt.show()"
   ]
  }
 ],
 "metadata": {
  "kernelspec": {
   "display_name": "ML",
   "language": "python",
   "name": "python3"
  },
  "language_info": {
   "codemirror_mode": {
    "name": "ipython",
    "version": 3
   },
   "file_extension": ".py",
   "mimetype": "text/x-python",
   "name": "python",
   "nbconvert_exporter": "python",
   "pygments_lexer": "ipython3",
   "version": "3.10.9"
  },
  "orig_nbformat": 4
 },
 "nbformat": 4,
 "nbformat_minor": 2
}
